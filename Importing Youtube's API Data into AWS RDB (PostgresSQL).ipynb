{
 "cells": [
  {
   "cell_type": "code",
   "execution_count": 5,
   "id": "f4059d3b",
   "metadata": {},
   "outputs": [],
   "source": [
    "import psycopg2 as ps\n",
    "import pandas as pd"
   ]
  },
  {
   "cell_type": "code",
   "execution_count": 83,
   "id": "6eb5b243",
   "metadata": {},
   "outputs": [],
   "source": [
    "#Connecting to AWS RDS Database\n",
    "def connect_to_db(host_name, dbname, port, username, password):\n",
    "    try:\n",
    "        conn = ps.connect(host=host_name, database=dbname, user=username, password=password, port=port)\n",
    "        \n",
    "    except ps.OperationalError as e:\n",
    "        raise e\n",
    "    \n",
    "    else:\n",
    "        print('Connected!')\n",
    "    return conn"
   ]
  },
  {
   "cell_type": "code",
   "execution_count": 84,
   "id": "5dcb802f",
   "metadata": {},
   "outputs": [
    {
     "name": "stdout",
     "output_type": "stream",
     "text": [
      "Connected!\n"
     ]
    }
   ],
   "source": [
    "# Database Credentials\n",
    "\n",
    "host_name = '*********'\n",
    "port = '5432'\n",
    "dbname= 'youtube_api_db'\n",
    "username = '******'\n",
    "password = '******'\n",
    "conn = None\n",
    "\n",
    "#Connecting to the AWS RDS\n",
    "conn = connect_to_db(host_name, dbname, port, username, password)\n",
    "curr = conn.cursor()"
   ]
  },
  {
   "cell_type": "code",
   "execution_count": 85,
   "id": "9fc6d840",
   "metadata": {},
   "outputs": [],
   "source": [
    "#Creating a table in the DB\n",
    "\n",
    "def create_table(curr):\n",
    "    create_table = (\"\"\"CREATE TABLE IF NOT EXISTS datasciencevideos(\n",
    "            video_id VARCHAR(255) PRIMARY KEY,\n",
    "            video_title TEXT NOT NULL,\n",
    "            video_description TEXT NOT NULL,\n",
    "            channel_title TEXT NOT NULL,\n",
    "            date_upload DATE NOT NULL DEFAULT CURRENT_DATE,\n",
    "            view_count INTEGER NOT NULL,\n",
    "            like_count INTEGER NOT NULL,\n",
    "            favorite_count INTEGER NOT NULL,\n",
    "            comment_count INTEGER NOT NULL\n",
    "    )\"\"\")\n",
    "    \n",
    "    curr.execute(create_table)"
   ]
  },
  {
   "cell_type": "code",
   "execution_count": 86,
   "id": "956c493c",
   "metadata": {},
   "outputs": [],
   "source": [
    "#checking if video exists\n",
    "def check_vid_exists(curr, video_id):\n",
    "    query = (\"\"\"SELECT video_id FROM datasciencevideos WHERE video_id = %s\"\"\")\n",
    "    curr.execute(query, (video_id,))\n",
    "    \n",
    "    return curr.fetchone() is not None"
   ]
  },
  {
   "cell_type": "code",
   "execution_count": 96,
   "id": "291ac67e",
   "metadata": {},
   "outputs": [],
   "source": [
    "#update row if video exists\n",
    "\n",
    "def update_row(curr, video_id, video_title, video_description, channel_title, date_upload, view_count,like_count, \n",
    "              favorite_count, comment_count):\n",
    "    query = (\"\"\"UPDATE datasciencevideos\n",
    "                SET video_id = %s,\n",
    "                    video_title = %s,\n",
    "                    video_description = %s,\n",
    "                    channel_title = %s,\n",
    "                    date_upload = %s,\n",
    "                    view_count = %s,\n",
    "                    like_count = %s,\n",
    "                    favorite_count = %s,\n",
    "                    comment_count = %s\n",
    "                WHERE video_id = %s;\"\"\")\n",
    "                    \n",
    "\n",
    "    to_update = (video_id,video_title, video_description, channel_title, date_upload, view_count,like_count,\n",
    "                 favorite_count,comment_count)\n",
    "    curr.execute(query, to_update)"
   ]
  },
  {
   "cell_type": "code",
   "execution_count": 97,
   "id": "ff3edf58",
   "metadata": {},
   "outputs": [],
   "source": [
    "#updating the database\n",
    "#handling data for scalability\n",
    "\n",
    "#check to see if video exists\n",
    "\n",
    "def update_db(curr,df):\n",
    "    temp_df = pd.DataFrame(columns=['video_id', 'video_title', 'video_description', 'channel_title', 'date_upload',\n",
    "                                    'view_count', 'like_count', 'favorite_count', 'comment_count'])\n",
    "    for i, row in df.iterrows():\n",
    "        if check_vid_exists(curr, row['video_id']): #if video exists, we'll update\n",
    "            update_row(curr, row['video_id'], row['video_title'], row['video_description'], row['channel_title'], \n",
    "                       row['date_upload'], row['view_count'], row['like_count'], row['favorite_count'], \n",
    "                       row['comment_count'])\n",
    "        else: #If video doesn't exists, append to db table\n",
    "            temp_df = temp_df.append(row)\n",
    "\n",
    "    return temp_df"
   ]
  },
  {
   "cell_type": "code",
   "execution_count": 98,
   "id": "01c7b3eb",
   "metadata": {},
   "outputs": [],
   "source": [
    "#Writing an insert command\n",
    "\n",
    "def insert_into_table(curr, video_id, video_title, video_description, channel_title, date_upload, view_count,like_count,\n",
    "                      favorite_count, comment_count):\n",
    "    insert_into_vid = (\"\"\"INSERT INTO datasciencevideos (video_id, video_title, video_description, channel_title, date_upload, view_count, \n",
    "                        like_count, favorite_count, comment_count)\n",
    "        VALUES(%s, %s, %s, %s, %s, %s, %s, %s, %s);\"\"\")\n",
    "    row_to_insert = (video_id, video_title, video_description, channel_title, date_upload, view_count,like_count,\n",
    "                      favorite_count, comment_count)\n",
    "    curr.execute(insert_into_vid, row_to_insert)  "
   ]
  },
  {
   "cell_type": "code",
   "execution_count": 99,
   "id": "3d03e584",
   "metadata": {},
   "outputs": [],
   "source": [
    "#Appending df data into Postgres DB. \n",
    "def append_from_df_to_db(curr,df):\n",
    "    for i, row in df.iterrows():\n",
    "        insert_into_table(curr,row['video_id'], row['video_title'], row['video_description'], row['channel_title'], \n",
    "                       row['date_upload'], row['view_count'], row['like_count'], row['favorite_count'], \n",
    "                       row['comment_count'])\n",
    "    "
   ]
  },
  {
   "cell_type": "code",
   "execution_count": 100,
   "id": "12babc61",
   "metadata": {
    "scrolled": false
   },
   "outputs": [
    {
     "data": {
      "text/html": [
       "<div>\n",
       "<style scoped>\n",
       "    .dataframe tbody tr th:only-of-type {\n",
       "        vertical-align: middle;\n",
       "    }\n",
       "\n",
       "    .dataframe tbody tr th {\n",
       "        vertical-align: top;\n",
       "    }\n",
       "\n",
       "    .dataframe thead th {\n",
       "        text-align: right;\n",
       "    }\n",
       "</style>\n",
       "<table border=\"1\" class=\"dataframe\">\n",
       "  <thead>\n",
       "    <tr style=\"text-align: right;\">\n",
       "      <th></th>\n",
       "      <th>video_id</th>\n",
       "      <th>video_title</th>\n",
       "      <th>video_description</th>\n",
       "      <th>channel_title</th>\n",
       "      <th>date_upload</th>\n",
       "      <th>view_count</th>\n",
       "      <th>like_count</th>\n",
       "      <th>favorite_count</th>\n",
       "      <th>comment_count</th>\n",
       "    </tr>\n",
       "  </thead>\n",
       "  <tbody>\n",
       "    <tr>\n",
       "      <th>0</th>\n",
       "      <td>xC-c7E5PK0Y</td>\n",
       "      <td>What REALLY is Data Science? Told by a Data Sc...</td>\n",
       "      <td>MERCH IS OUT FOR PRE-SALE: https://shopdoggos....</td>\n",
       "      <td>Joma Tech</td>\n",
       "      <td>2018-06-23</td>\n",
       "      <td>3347359</td>\n",
       "      <td>129564</td>\n",
       "      <td>0</td>\n",
       "      <td>3610</td>\n",
       "    </tr>\n",
       "    <tr>\n",
       "      <th>1</th>\n",
       "      <td>X3paOmcrTjQ</td>\n",
       "      <td>Data Science In 5 Minutes | Data Science For B...</td>\n",
       "      <td>Advanced Certificate Program In Data Science: ...</td>\n",
       "      <td>Simplilearn</td>\n",
       "      <td>2018-12-04</td>\n",
       "      <td>3312461</td>\n",
       "      <td>48545</td>\n",
       "      <td>0</td>\n",
       "      <td>1085</td>\n",
       "    </tr>\n",
       "    <tr>\n",
       "      <th>2</th>\n",
       "      <td>-ETQ97mXXF0</td>\n",
       "      <td>Data Science Full Course - Learn Data Science ...</td>\n",
       "      <td>Data Science Master Program (Use Code \"YOUTUBE...</td>\n",
       "      <td>edureka!</td>\n",
       "      <td>2019-08-18</td>\n",
       "      <td>3073900</td>\n",
       "      <td>64512</td>\n",
       "      <td>0</td>\n",
       "      <td>683</td>\n",
       "    </tr>\n",
       "    <tr>\n",
       "      <th>3</th>\n",
       "      <td>FvGRKQipTP8</td>\n",
       "      <td>See Part 2 with the Data Scientist in the comm...</td>\n",
       "      <td>Watch Part 2 here: https://www.youtube.com/wat...</td>\n",
       "      <td>The Final Round</td>\n",
       "      <td>2022-07-11</td>\n",
       "      <td>2910837</td>\n",
       "      <td>90721</td>\n",
       "      <td>0</td>\n",
       "      <td>1368</td>\n",
       "    </tr>\n",
       "    <tr>\n",
       "      <th>4</th>\n",
       "      <td>LHBE6Q9XlzI</td>\n",
       "      <td>Python for Data Science - Course for Beginners...</td>\n",
       "      <td>This Python data science course will take you ...</td>\n",
       "      <td>freeCodeCamp.org</td>\n",
       "      <td>2020-06-02</td>\n",
       "      <td>2794386</td>\n",
       "      <td>67824</td>\n",
       "      <td>0</td>\n",
       "      <td>1284</td>\n",
       "    </tr>\n",
       "  </tbody>\n",
       "</table>\n",
       "</div>"
      ],
      "text/plain": [
       "      video_id                                        video_title  \\\n",
       "0  xC-c7E5PK0Y  What REALLY is Data Science? Told by a Data Sc...   \n",
       "1  X3paOmcrTjQ  Data Science In 5 Minutes | Data Science For B...   \n",
       "2  -ETQ97mXXF0  Data Science Full Course - Learn Data Science ...   \n",
       "3  FvGRKQipTP8  See Part 2 with the Data Scientist in the comm...   \n",
       "4  LHBE6Q9XlzI  Python for Data Science - Course for Beginners...   \n",
       "\n",
       "                                   video_description     channel_title  \\\n",
       "0  MERCH IS OUT FOR PRE-SALE: https://shopdoggos....         Joma Tech   \n",
       "1  Advanced Certificate Program In Data Science: ...       Simplilearn   \n",
       "2  Data Science Master Program (Use Code \"YOUTUBE...          edureka!   \n",
       "3  Watch Part 2 here: https://www.youtube.com/wat...   The Final Round   \n",
       "4  This Python data science course will take you ...  freeCodeCamp.org   \n",
       "\n",
       "  date_upload  view_count  like_count  favorite_count  comment_count  \n",
       "0  2018-06-23     3347359      129564               0           3610  \n",
       "1  2018-12-04     3312461       48545               0           1085  \n",
       "2  2019-08-18     3073900       64512               0            683  \n",
       "3  2022-07-11     2910837       90721               0           1368  \n",
       "4  2020-06-02     2794386       67824               0           1284  "
      ]
     },
     "execution_count": 100,
     "metadata": {},
     "output_type": "execute_result"
    }
   ],
   "source": [
    "df = pd.read_csv('youtube_API_data.csv')\n",
    "df.head()"
   ]
  },
  {
   "cell_type": "code",
   "execution_count": 101,
   "id": "0d407026",
   "metadata": {},
   "outputs": [],
   "source": [
    "curr = conn.cursor()"
   ]
  },
  {
   "cell_type": "code",
   "execution_count": 93,
   "id": "dc3e5bea",
   "metadata": {},
   "outputs": [],
   "source": [
    "#creates table\n",
    "create_table(curr)"
   ]
  },
  {
   "cell_type": "code",
   "execution_count": null,
   "id": "a128d2c8",
   "metadata": {},
   "outputs": [],
   "source": [
    "# Updates data for existing videos\n",
    "new_vid_df = update_db(curr, df)"
   ]
  },
  {
   "cell_type": "code",
   "execution_count": null,
   "id": "16b9a970",
   "metadata": {},
   "outputs": [],
   "source": [
    "#Inserting new videos into the Database\n",
    "append_from_df_to_db(curr, new_vid_df)\n",
    "conn.commit()"
   ]
  },
  {
   "cell_type": "code",
   "execution_count": null,
   "id": "c2c27582",
   "metadata": {},
   "outputs": [],
   "source": [
    "#To view the data in the Postgres DB\n",
    "curr.execute(\"SELECT * FROM datasciencevideos\")\n",
    "print(curr.fetchall())"
   ]
  }
 ],
 "metadata": {
  "kernelspec": {
   "display_name": "Python 3 (ipykernel)",
   "language": "python",
   "name": "python3"
  },
  "language_info": {
   "codemirror_mode": {
    "name": "ipython",
    "version": 3
   },
   "file_extension": ".py",
   "mimetype": "text/x-python",
   "name": "python",
   "nbconvert_exporter": "python",
   "pygments_lexer": "ipython3",
   "version": "3.10.8"
  }
 },
 "nbformat": 4,
 "nbformat_minor": 5
}
